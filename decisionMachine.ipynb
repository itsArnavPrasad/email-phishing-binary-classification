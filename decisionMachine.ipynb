{
 "cells": [
  {
   "cell_type": "code",
   "execution_count": 1,
   "id": "ed5e7d2b",
   "metadata": {},
   "outputs": [],
   "source": [
    "import pandas as pd\n",
    "\n",
    "# Load the dataset\n",
    "df = pd.read_csv('database/email_phishing_data.csv')  # Replace with your actual filename"
   ]
  },
  {
   "cell_type": "code",
   "execution_count": 2,
   "id": "7c859187",
   "metadata": {},
   "outputs": [],
   "source": [
    "X = df.drop('label', axis=1)  # All columns except 'label'\n",
    "y = df['label']               # Target column\n"
   ]
  },
  {
   "cell_type": "code",
   "execution_count": 3,
   "id": "4c704b9f",
   "metadata": {},
   "outputs": [],
   "source": [
    "from sklearn.model_selection import train_test_split\n",
    "\n",
    "X_train, X_test, y_train, y_test = train_test_split(\n",
    "    X, y, test_size=0.3, random_state=42, stratify=y\n",
    ")\n"
   ]
  },
  {
   "cell_type": "code",
   "execution_count": 4,
   "id": "a2ee3b66",
   "metadata": {},
   "outputs": [],
   "source": [
    "from sklearn.preprocessing import StandardScaler\n",
    "\n",
    "scaler = StandardScaler()\n",
    "X_train_scaled = scaler.fit_transform(X_train)\n",
    "X_test_scaled = scaler.transform(X_test)\n"
   ]
  },
  {
   "cell_type": "code",
   "execution_count": 5,
   "id": "eb8ac59d",
   "metadata": {},
   "outputs": [],
   "source": [
    "from imblearn.over_sampling import SMOTE \n",
    "\n",
    "smote = SMOTE()\n",
    "X_resampled, y_resampled = smote.fit_resample(X_train_scaled, y_train)\n",
    "\n",
    "\n"
   ]
  },
  {
   "cell_type": "code",
   "execution_count": 13,
   "id": "ebe954cd",
   "metadata": {},
   "outputs": [
    {
     "name": "stdout",
     "output_type": "stream",
     "text": [
      "Classification Report:\n",
      "              precision    recall  f1-score   support\n",
      "\n",
      "           0       0.99      0.99      0.99    155369\n",
      "           1       0.27      0.36      0.31      2085\n",
      "\n",
      "    accuracy                           0.98    157454\n",
      "   macro avg       0.63      0.67      0.65    157454\n",
      "weighted avg       0.98      0.98      0.98    157454\n",
      "\n",
      "Confusion Matrix:\n",
      "[[153360   2009]\n",
      " [  1335    750]]\n"
     ]
    }
   ],
   "source": [
    "from sklearn.tree import DecisionTreeClassifier\n",
    "from sklearn.metrics import classification_report, confusion_matrix\n",
    "\n",
    "# Initialize Decision Tree\n",
    "tree_model = DecisionTreeClassifier(\n",
    "    class_weight='balanced',  # handles imbalance\n",
    "    max_depth=70,             # limit depth to avoid overfitting\n",
    "    random_state=42,\n",
    "\n",
    ")\n",
    "\n",
    "# Fit on resampled data\n",
    "tree_model.fit(X_resampled, y_resampled)\n",
    "\n",
    "# Predict\n",
    "y_pred = tree_model.predict(X_test_scaled)\n",
    "\n",
    "# Evaluate\n",
    "print(\"Classification Report:\")\n",
    "print(classification_report(y_test, y_pred))\n",
    "\n",
    "print(\"Confusion Matrix:\")\n",
    "print(confusion_matrix(y_test, y_pred))"
   ]
  },
  {
   "cell_type": "markdown",
   "id": "a401d1f6",
   "metadata": {},
   "source": [
    "## Learnings\n",
    "\n",
    "- Model trains quickly, enabling rapid experimentation.\n",
    "- Initial model (depth 10) showed high recall but poor precision for class 1:\n",
    "  - Precision: 0.02, Recall: 0.70, F1-score: 0.05 (class 1)\n",
    "  - Accuracy: 0.62\n",
    "  - Confusion Matrix: [[95977 59392], [631 1454]]\n",
    "- Increasing depth to 30 improved performance:\n",
    "  - Precision: 0.18, Recall: 0.36, F1-score: 0.24 (class 1)\n",
    "  - Accuracy: 0.97\n",
    "  - Confusion Matrix: [[151816 3553], [1328 757]]\n",
    "- Depth 40 further enhanced precision and accuracy:\n",
    "  - Precision: 0.27, Recall: 0.36, F1-score: 0.31 (class 1)\n",
    "  - Accuracy: 0.98\n",
    "  - Confusion Matrix: [[153306 2063], [1329 756]]\n",
    "- Depth 70 showed marginal improvement:\n",
    "  - Precision: 0.27, Recall: 0.36, F1-score: 0.31 (class 1)\n",
    "  - Accuracy: 0.98\n",
    "  - Confusion Matrix: [[153360 2009], [1335 750]]"
   ]
  },
  {
   "cell_type": "code",
   "execution_count": null,
   "id": "6b0c1eca",
   "metadata": {},
   "outputs": [],
   "source": []
  }
 ],
 "metadata": {
  "kernelspec": {
   "display_name": "venv",
   "language": "python",
   "name": "python3"
  },
  "language_info": {
   "codemirror_mode": {
    "name": "ipython",
    "version": 3
   },
   "file_extension": ".py",
   "mimetype": "text/x-python",
   "name": "python",
   "nbconvert_exporter": "python",
   "pygments_lexer": "ipython3",
   "version": "3.13.2"
  }
 },
 "nbformat": 4,
 "nbformat_minor": 5
}
